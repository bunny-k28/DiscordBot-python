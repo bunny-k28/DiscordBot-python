{
 "cells": [
  {
   "cell_type": "markdown",
   "metadata": {},
   "source": [
    "# print feedbacks"
   ]
  },
  {
   "cell_type": "code",
   "execution_count": 13,
   "metadata": {},
   "outputs": [
    {
     "name": "stdout",
     "output_type": "stream",
     "text": [
      "No feedback in the database\n"
     ]
    }
   ],
   "source": [
    "import sqlite3 as sql\n",
    "import pandas as pd\n",
    "from Data.quantam import showTable\n",
    "\n",
    "db_status = False\n",
    "\n",
    "try:\n",
    "    db = sql.connect(r'Data\\Database\\database.db')\n",
    "    cursor = db.cursor()\n",
    "    db_status = True\n",
    "    \n",
    "except Exception:\n",
    "    db = sql.connect(r'E:\\Programming\\Python\\Python Projects\\PythonBots\\DiscordBots\\Data\\Database\\database.db')\n",
    "    cursor = db.cursor()\n",
    "    db_status = True\n",
    "\n",
    "except Exception:\n",
    "    print('unable to connect to the database')\n",
    "\n",
    "\n",
    "if db_status is True:\n",
    "    \n",
    "    try:\n",
    "        cursor.execute('SELECT * FROM Feedback')\n",
    "        data = cursor.fetchall()\n",
    "    \n",
    "    except Exception as E:\n",
    "        print(f'{E}')\n",
    "        \n",
    "    finally:\n",
    "        cursor.close()\n",
    "        db.close()\n",
    "        \n",
    "    if len(data) == 0:\n",
    "        print('No feedback in the database')\n",
    "        \n",
    "    else:\n",
    "        columns = ['UID', '[YY/MM/DD]', 'Member', 'Feedback']                            \n",
    "        print(f'{showTable(_data=data, cols=columns)}')\n",
    "    \n",
    "else:\n",
    "    print('`Unable to connect to the database`')"
   ]
  },
  {
   "cell_type": "markdown",
   "metadata": {},
   "source": [
    "# clean feedback db"
   ]
  },
  {
   "cell_type": "code",
   "execution_count": 12,
   "metadata": {},
   "outputs": [
    {
     "name": "stdout",
     "output_type": "stream",
     "text": [
      "Database successfully cleaned\n"
     ]
    }
   ],
   "source": [
    "import sqlite3 as sql\n",
    "\n",
    "db_status = False\n",
    "            \n",
    "try:\n",
    "    db = sql.connect('Data\\\\Database\\\\database.db')\n",
    "    cursor = db.cursor()\n",
    "    db_status = True\n",
    "    \n",
    "except Exception:\n",
    "    db = sql.connect('E:\\\\Programming\\\\Python\\\\Python Projects\\\\PythonBots\\\\DiscordBot\\\\Data\\\\Database\\\\database.db')\n",
    "    cursor = db.cursor()\n",
    "    db_status = True\n",
    "\n",
    "except Exception:\n",
    "    print('unable to connect to the database')\n",
    "    exit()\n",
    "\n",
    "if db_status is True:\n",
    "    try:\n",
    "        cursor.execute(f'DROP TABLE Feedback')                      \n",
    "        cursor.execute(f'CREATE TABLE IF NOT EXISTS Feedback(fdb_ID Text, Date Text, Member TEXT, feedback TEXT)')\n",
    "        \n",
    "        db.commit()\n",
    "        cursor.close()\n",
    "        db.close()\n",
    "        \n",
    "        try:\n",
    "            students_list = open(r'E:\\Programming\\Python\\Python Projects\\PythonBots\\DiscordBots\\Data\\feedback_status.txt', 'w')\n",
    "            students_list.truncate()\n",
    "            students_list.close()\n",
    "            print('Database successfully cleaned')\n",
    "\n",
    "        except Exception as e:\n",
    "            print(f'unable to clean feedback_status.txt file\\nDue:- [{e}]')\n",
    "        # print('Done by 1st method')\n",
    "        \n",
    "    except Exception:\n",
    "        cursor.execute(f\"DROP TABLE Feedback\")\n",
    "        cursor.execute(f'CREATE TABLE IF NOT EXISTS Feedback(fdb_ID Text, Date Text, Member TEXT, feedback TEXT)')\n",
    "        \n",
    "        db.commit()\n",
    "        cursor.close()\n",
    "        db.close()\n",
    "\n",
    "        try:\n",
    "            students_list = open(r'E:\\Programming\\Python\\Python Projects\\PythonBots\\DiscordBots\\Data\\feedback_status.txt', 'w')\n",
    "            students_list.truncate()\n",
    "            students_list.close()\n",
    "            print('Database successfully cleaned')\n",
    "\n",
    "        except Exception as e:\n",
    "            print('unable to clean feedback_status.txt file\\nDue:- [{e}]')\n",
    "\n",
    "        # print('Done by 2nd method')\n",
    "        \n",
    "    except Exception as E:\n",
    "        print(f'{E}')\n",
    "        \n",
    "else:\n",
    "    print('Unable to connect to the database')"
   ]
  },
  {
   "cell_type": "markdown",
   "metadata": {},
   "source": [
    "# update feedback status"
   ]
  },
  {
   "cell_type": "code",
   "execution_count": 19,
   "metadata": {},
   "outputs": [
    {
     "name": "stdout",
     "output_type": "stream",
     "text": [
      "feedback ID: fdb887135 updated successfully\n"
     ]
    }
   ],
   "source": [
    "from Data.quantam import formatData\n",
    "\n",
    "fdb_id = input(\"Enter feedback ID\")\n",
    "status = input(\"Enter feedback Status\").capitalize()\n",
    "\n",
    "# looper = input(\"For multiple updating enter: M, for single updating enter: S\").lower()\n",
    "\n",
    "fdb_file = open(r'E:\\Programming\\Python\\Python Projects\\PythonBots\\DiscordBots\\Data\\feedback_status.txt', 'r')\n",
    "fdbs = fdb_file.readlines()\n",
    "fdb_file.close()\n",
    "\n",
    "formatData(fdbs, '\\n')\n",
    "    \n",
    "updation = False\n",
    "\n",
    "for index, _fdb in enumerate(fdbs):\n",
    "    \n",
    "    if fdb_id in _fdb:\n",
    "        updation = True\n",
    "        fdbs[index] = f'{fdb_id}: {status}'\n",
    "        print(f'feedback ID: {fdb_id} updated successfully')\n",
    "        break\n",
    "    \n",
    "    else:\n",
    "        updation = False\n",
    "\n",
    "if updation is True:\n",
    "    \n",
    "    x = open(r'E:\\Programming\\Python\\Python Projects\\PythonBots\\DiscordBots\\Data\\feedback_status.txt', 'w')\n",
    "    x.truncate()\n",
    "    x.close()\n",
    "    \n",
    "    fdb_status_file = open(r'E:\\Programming\\Python\\Python Projects\\PythonBots\\DiscordBots\\Data\\feedback_status.txt', 'a')\n",
    "    \n",
    "    for fdb in fdbs:\n",
    "        fdb_status_file.write(f'{fdb}\\n')\n",
    "        \n",
    "    fdb_status_file.close()\n",
    "\n",
    "elif updation is False:\n",
    "    print(f'feedback ID: {fdb_id} not found')"
   ]
  }
 ],
 "metadata": {
  "interpreter": {
   "hash": "b3ba2566441a7c06988d0923437866b63cedc61552a5af99d1f4fb67d367b25f"
  },
  "kernelspec": {
   "display_name": "Python 3.8.5 64-bit ('base': conda)",
   "language": "python",
   "name": "python3"
  },
  "language_info": {
   "codemirror_mode": {
    "name": "ipython",
    "version": 3
   },
   "file_extension": ".py",
   "mimetype": "text/x-python",
   "name": "python",
   "nbconvert_exporter": "python",
   "pygments_lexer": "ipython3",
   "version": "3.8.5"
  },
  "orig_nbformat": 4
 },
 "nbformat": 4,
 "nbformat_minor": 2
}
