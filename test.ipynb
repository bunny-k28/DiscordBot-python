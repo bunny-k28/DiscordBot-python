{
 "cells": [
  {
   "cell_type": "markdown",
   "metadata": {},
   "source": [
    "# code to create list of no.s of the range mentioned"
   ]
  },
  {
   "cell_type": "code",
   "execution_count": 2,
   "metadata": {},
   "outputs": [
    {
     "name": "stdout",
     "output_type": "stream",
     "text": [
      "['2110501@kp.kiit.ac.in', '2110502@kp.kiit.ac.in', '2110503@kp.kiit.ac.in', '2110504@kp.kiit.ac.in', '2110505@kp.kiit.ac.in', '2110506@kp.kiit.ac.in', '2110507@kp.kiit.ac.in', '2110508@kp.kiit.ac.in', '2110509@kp.kiit.ac.in', '2110510@kp.kiit.ac.in', '2110511@kp.kiit.ac.in', '2110512@kp.kiit.ac.in', '2110513@kp.kiit.ac.in', '2110514@kp.kiit.ac.in', '2110515@kp.kiit.ac.in', '2110516@kp.kiit.ac.in', '2110517@kp.kiit.ac.in', '2110518@kp.kiit.ac.in', '2110519@kp.kiit.ac.in', '2110520@kp.kiit.ac.in', '2110521@kp.kiit.ac.in', '2110522@kp.kiit.ac.in', '2110523@kp.kiit.ac.in', '2110524@kp.kiit.ac.in', '2110525@kp.kiit.ac.in', '2110526@kp.kiit.ac.in', '2110527@kp.kiit.ac.in', '2110528@kp.kiit.ac.in', '2110529@kp.kiit.ac.in', '2110530@kp.kiit.ac.in', '2110531@kp.kiit.ac.in', '2110532@kp.kiit.ac.in', '2110533@kp.kiit.ac.in', '2110534@kp.kiit.ac.in', '2110535@kp.kiit.ac.in', '2110536@kp.kiit.ac.in', '2110537@kp.kiit.ac.in', '2110538@kp.kiit.ac.in', '2110539@kp.kiit.ac.in', '2110540@kp.kiit.ac.in', '2110541@kp.kiit.ac.in', '2110542@kp.kiit.ac.in', '2110543@kp.kiit.ac.in', '2110544@kp.kiit.ac.in', '2110545@kp.kiit.ac.in', '2110546@kp.kiit.ac.in', '2110547@kp.kiit.ac.in', '2110548@kp.kiit.ac.in', '2110549@kp.kiit.ac.in', '2110550@kp.kiit.ac.in', '2110551@kp.kiit.ac.in', '2110552@kp.kiit.ac.in', '2110553@kp.kiit.ac.in', '2110554@kp.kiit.ac.in', '2110555@kp.kiit.ac.in', '2110556@kp.kiit.ac.in', '2110557@kp.kiit.ac.in', '2110558@kp.kiit.ac.in', '2110559@kp.kiit.ac.in', '2110560@kp.kiit.ac.in', '2110561@kp.kiit.ac.in', '2110562@kp.kiit.ac.in', '2110563@kp.kiit.ac.in', '2110564@kp.kiit.ac.in', '2110565@kp.kiit.ac.in']\n"
     ]
    }
   ],
   "source": [
    "roll_nums = []\n",
    "\n",
    "for i in range(2110501, 2110566):\n",
    "    roll_nums += [f'{i}@kp.kiit.ac.in']\n",
    "    \n",
    "print(roll_nums)"
   ]
  },
  {
   "cell_type": "markdown",
   "metadata": {},
   "source": [
    "\n",
    "# testing cells"
   ]
  },
  {
   "cell_type": "markdown",
   "metadata": {},
   "source": [
    "## command validity check code"
   ]
  },
  {
   "cell_type": "code",
   "execution_count": 12,
   "metadata": {},
   "outputs": [],
   "source": [
    "from Data.quantam import all_cmds\n",
    "\n",
    "def checkCMD(command):\n",
    "    \n",
    "    validity = False\n",
    "    \n",
    "    for cmd in all_cmds:\n",
    "        if command.startswith(cmd):\n",
    "            validity = True\n",
    "            \n",
    "        else:\n",
    "            pass\n",
    "        \n",
    "    return validity"
   ]
  },
  {
   "cell_type": "code",
   "execution_count": 13,
   "metadata": {},
   "outputs": [
    {
     "name": "stdout",
     "output_type": "stream",
     "text": [
      "b.info: error\n"
     ]
    },
    {
     "ename": "KeyboardInterrupt",
     "evalue": "Interrupted by user",
     "output_type": "error",
     "traceback": [
      "\u001b[1;31m---------------------------------------------------------------------------\u001b[0m",
      "\u001b[1;31mKeyboardInterrupt\u001b[0m                         Traceback (most recent call last)",
      "\u001b[1;32m<ipython-input-13-a6ae1f7cb401>\u001b[0m in \u001b[0;36m<module>\u001b[1;34m\u001b[0m\n\u001b[0;32m      1\u001b[0m \u001b[1;32mwhile\u001b[0m \u001b[1;32mTrue\u001b[0m\u001b[1;33m:\u001b[0m\u001b[1;33m\u001b[0m\u001b[1;33m\u001b[0m\u001b[0m\n\u001b[1;32m----> 2\u001b[1;33m     \u001b[0mcmd_line\u001b[0m \u001b[1;33m=\u001b[0m \u001b[0minput\u001b[0m\u001b[1;33m(\u001b[0m\u001b[1;33m)\u001b[0m \u001b[1;31m# b.add_event 01/01/22-new year\u001b[0m\u001b[1;33m\u001b[0m\u001b[1;33m\u001b[0m\u001b[0m\n\u001b[0m\u001b[0;32m      3\u001b[0m \u001b[1;33m\u001b[0m\u001b[0m\n\u001b[0;32m      4\u001b[0m     \u001b[1;32mtry\u001b[0m\u001b[1;33m:\u001b[0m\u001b[1;33m\u001b[0m\u001b[1;33m\u001b[0m\u001b[0m\n\u001b[0;32m      5\u001b[0m         \u001b[0mcmd\u001b[0m \u001b[1;33m=\u001b[0m \u001b[0mcmd_line\u001b[0m\u001b[1;33m.\u001b[0m\u001b[0mreplace\u001b[0m\u001b[1;33m(\u001b[0m\u001b[1;34m'b.'\u001b[0m\u001b[1;33m,\u001b[0m \u001b[1;34m''\u001b[0m\u001b[1;33m)\u001b[0m \u001b[1;31m# add_event 01/01/22-new year\u001b[0m\u001b[1;33m\u001b[0m\u001b[1;33m\u001b[0m\u001b[0m\n",
      "\u001b[1;32mC:\\ProgramData\\Anaconda3\\lib\\site-packages\\ipykernel\\kernelbase.py\u001b[0m in \u001b[0;36mraw_input\u001b[1;34m(self, prompt)\u001b[0m\n\u001b[0;32m    858\u001b[0m                 \u001b[1;34m\"raw_input was called, but this frontend does not support input requests.\"\u001b[0m\u001b[1;33m\u001b[0m\u001b[1;33m\u001b[0m\u001b[0m\n\u001b[0;32m    859\u001b[0m             )\n\u001b[1;32m--> 860\u001b[1;33m         return self._input_request(str(prompt),\n\u001b[0m\u001b[0;32m    861\u001b[0m             \u001b[0mself\u001b[0m\u001b[1;33m.\u001b[0m\u001b[0m_parent_ident\u001b[0m\u001b[1;33m,\u001b[0m\u001b[1;33m\u001b[0m\u001b[1;33m\u001b[0m\u001b[0m\n\u001b[0;32m    862\u001b[0m             \u001b[0mself\u001b[0m\u001b[1;33m.\u001b[0m\u001b[0m_parent_header\u001b[0m\u001b[1;33m,\u001b[0m\u001b[1;33m\u001b[0m\u001b[1;33m\u001b[0m\u001b[0m\n",
      "\u001b[1;32mC:\\ProgramData\\Anaconda3\\lib\\site-packages\\ipykernel\\kernelbase.py\u001b[0m in \u001b[0;36m_input_request\u001b[1;34m(self, prompt, ident, parent, password)\u001b[0m\n\u001b[0;32m    902\u001b[0m             \u001b[1;32mexcept\u001b[0m \u001b[0mKeyboardInterrupt\u001b[0m\u001b[1;33m:\u001b[0m\u001b[1;33m\u001b[0m\u001b[1;33m\u001b[0m\u001b[0m\n\u001b[0;32m    903\u001b[0m                 \u001b[1;31m# re-raise KeyboardInterrupt, to truncate traceback\u001b[0m\u001b[1;33m\u001b[0m\u001b[1;33m\u001b[0m\u001b[1;33m\u001b[0m\u001b[0m\n\u001b[1;32m--> 904\u001b[1;33m                 \u001b[1;32mraise\u001b[0m \u001b[0mKeyboardInterrupt\u001b[0m\u001b[1;33m(\u001b[0m\u001b[1;34m\"Interrupted by user\"\u001b[0m\u001b[1;33m)\u001b[0m \u001b[1;32mfrom\u001b[0m \u001b[1;32mNone\u001b[0m\u001b[1;33m\u001b[0m\u001b[1;33m\u001b[0m\u001b[0m\n\u001b[0m\u001b[0;32m    905\u001b[0m             \u001b[1;32mexcept\u001b[0m \u001b[0mException\u001b[0m \u001b[1;32mas\u001b[0m \u001b[0me\u001b[0m\u001b[1;33m:\u001b[0m\u001b[1;33m\u001b[0m\u001b[1;33m\u001b[0m\u001b[0m\n\u001b[0;32m    906\u001b[0m                 \u001b[0mself\u001b[0m\u001b[1;33m.\u001b[0m\u001b[0mlog\u001b[0m\u001b[1;33m.\u001b[0m\u001b[0mwarning\u001b[0m\u001b[1;33m(\u001b[0m\u001b[1;34m\"Invalid Message:\"\u001b[0m\u001b[1;33m,\u001b[0m \u001b[0mexc_info\u001b[0m\u001b[1;33m=\u001b[0m\u001b[1;32mTrue\u001b[0m\u001b[1;33m)\u001b[0m\u001b[1;33m\u001b[0m\u001b[1;33m\u001b[0m\u001b[0m\n",
      "\u001b[1;31mKeyboardInterrupt\u001b[0m: Interrupted by user"
     ]
    }
   ],
   "source": [
    "while True:\n",
    "    cmd_line = input() # b.add_event 01/01/22-new year\n",
    "\n",
    "    try:\n",
    "        cmd = cmd_line.replace('b.', '') # add_event 01/01/22-new year\n",
    "    except Exception:\n",
    "        pass\n",
    "\n",
    "    if cmd_line == 'stop':\n",
    "        break\n",
    "    \n",
    "    else:\n",
    "\n",
    "        if checkCMD(cmd) is True:\n",
    "            print(f'{cmd_line}: all okay')\n",
    "            \n",
    "        else:\n",
    "            print(f'{cmd_line}: error')"
   ]
  },
  {
   "cell_type": "markdown",
   "metadata": {},
   "source": [
    "## fdb member handeling"
   ]
  },
  {
   "cell_type": "code",
   "execution_count": 28,
   "metadata": {},
   "outputs": [
    {
     "name": "stdout",
     "output_type": "stream",
     "text": [
      "['Bunny_29#8142', 'Bunny_29#8142']\n"
     ]
    }
   ],
   "source": [
    "from Data.quantam import formatData\n",
    "\n",
    "fdb_senders_file = open(r'E:\\Programming\\Python\\Python Projects\\PythonBots\\DiscordBots\\Data\\feedback_senders.txt', 'r')\n",
    "fdb_senders_file_data = fdb_senders_file.readlines()\n",
    "fdb_senders_file.close()\n",
    "\n",
    "formatData(fdb_senders_file_data, '\\n')\n",
    "\n",
    "print(fdb_senders_file_data)\n",
    "\n",
    "# if member in fdb_senders_file_data:\n",
    "#     await member.send(f'**```Your Feedback ID is {fdb_id}```**')\n",
    "    \n",
    "# else:\n",
    "#     fdb_senders_file = open(r'E:\\Programming\\Python\\Python Projects\\PythonBots\\DiscordBots\\Data\\feedback_senders.txt', 'a')\n",
    "#     fdb_senders_file.write(f'{member}\\n')\n",
    "#     fdb_senders_file.close()"
   ]
  },
  {
   "cell_type": "markdown",
   "metadata": {},
   "source": [
    "## login id validity check"
   ]
  },
  {
   "cell_type": "code",
   "execution_count": 1,
   "metadata": {},
   "outputs": [
    {
     "name": "stdout",
     "output_type": "stream",
     "text": [
      "access denied to VC\n"
     ]
    }
   ],
   "source": [
    "import Data.quantam as dq\n",
    "clg_login_id = input(\"enter college login ID\")\n",
    "\n",
    "validity = False\n",
    "\n",
    "for _id in dq.student_clg_login_IDs:\n",
    "    if _id == clg_login_id:\n",
    "        validity = True\n",
    "        \n",
    "    else:\n",
    "        validity = False\n",
    "        \n",
    "if validity is True:\n",
    "    print('access granted to VC')\n",
    "elif validity is False:\n",
    "    print('access denied to VC')"
   ]
  },
  {
   "cell_type": "code",
   "execution_count": 2,
   "metadata": {},
   "outputs": [
    {
     "ename": "ValueError",
     "evalue": "not enough values to unpack (expected 2, got 1)",
     "output_type": "error",
     "traceback": [
      "\u001b[1;31m---------------------------------------------------------------------------\u001b[0m",
      "\u001b[1;31mValueError\u001b[0m                                Traceback (most recent call last)",
      "\u001b[1;32m<ipython-input-2-c4953551a351>\u001b[0m in \u001b[0;36m<module>\u001b[1;34m\u001b[0m\n\u001b[0;32m      2\u001b[0m \u001b[1;33m\u001b[0m\u001b[0m\n\u001b[0;32m      3\u001b[0m \u001b[0mmember_details\u001b[0m \u001b[1;33m=\u001b[0m \u001b[0mcmd\u001b[0m\u001b[1;33m.\u001b[0m\u001b[0mreplace\u001b[0m\u001b[1;33m(\u001b[0m\u001b[1;34m'b.update '\u001b[0m\u001b[1;33m,\u001b[0m \u001b[1;34m''\u001b[0m\u001b[1;33m)\u001b[0m\u001b[1;33m\u001b[0m\u001b[1;33m\u001b[0m\u001b[0m\n\u001b[1;32m----> 4\u001b[1;33m \u001b[0mid_num\u001b[0m\u001b[1;33m,\u001b[0m \u001b[0mstatus\u001b[0m \u001b[1;33m=\u001b[0m \u001b[0mmember_details\u001b[0m\u001b[1;33m.\u001b[0m\u001b[0msplit\u001b[0m\u001b[1;33m(\u001b[0m\u001b[1;34m'-'\u001b[0m\u001b[1;33m)\u001b[0m\u001b[1;33m\u001b[0m\u001b[1;33m\u001b[0m\u001b[0m\n\u001b[0m\u001b[0;32m      5\u001b[0m \u001b[1;33m\u001b[0m\u001b[0m\n\u001b[0;32m      6\u001b[0m \u001b[0mmember\u001b[0m \u001b[1;33m=\u001b[0m \u001b[0mint\u001b[0m\u001b[1;33m(\u001b[0m\u001b[0mid_num\u001b[0m\u001b[1;33m)\u001b[0m\u001b[1;33m\u001b[0m\u001b[1;33m\u001b[0m\u001b[0m\n",
      "\u001b[1;31mValueError\u001b[0m: not enough values to unpack (expected 2, got 1)"
     ]
    }
   ],
   "source": [
    "cmd = input()\n",
    "\n",
    "member_details = cmd.replace('b.update ', '')\n",
    "id_num, status = member_details.split('-')\n",
    "\n",
    "member = int(id_num)\n",
    "    \n",
    "print(f'{member} feedback is {status}')"
   ]
  },
  {
   "cell_type": "code",
   "execution_count": 5,
   "metadata": {},
   "outputs": [
    {
     "name": "stdout",
     "output_type": "stream",
     "text": [
      "St49746\n"
     ]
    }
   ],
   "source": [
    "import random as r\n",
    "\n",
    "def createID(id_len: int, dtype: str):    # done\n",
    "    \n",
    "    _id = \"\"\n",
    "    \n",
    "    if (dtype == 'student') or (dtype in 's'):\n",
    "        _id += 'St'\n",
    "        \n",
    "    elif (dtype == 'event') or (dtype in 'e'):\n",
    "        _id += 'E'\n",
    "        \n",
    "    elif (dtype == 'fdb') or (dtype in 'f'):\n",
    "        _id += 'fdb'\n",
    "        \n",
    "    elif (dtype == 'teacher') or (dtype in 't'):\n",
    "        _id += 'T'\n",
    "    \n",
    "    for i in range(id_len):\n",
    "        _id += str(r.randint(a=0, b=9))\n",
    "        \n",
    "    return _id\n",
    "\n",
    "print(createID(5, 's'))"
   ]
  }
 ],
 "metadata": {
  "interpreter": {
   "hash": "b3ba2566441a7c06988d0923437866b63cedc61552a5af99d1f4fb67d367b25f"
  },
  "kernelspec": {
   "display_name": "Python 3.8.5 64-bit ('base': conda)",
   "language": "python",
   "name": "python3"
  },
  "language_info": {
   "codemirror_mode": {
    "name": "ipython",
    "version": 3
   },
   "file_extension": ".py",
   "mimetype": "text/x-python",
   "name": "python",
   "nbconvert_exporter": "python",
   "pygments_lexer": "ipython3",
   "version": "3.8.5"
  },
  "orig_nbformat": 4
 },
 "nbformat": 4,
 "nbformat_minor": 2
}
